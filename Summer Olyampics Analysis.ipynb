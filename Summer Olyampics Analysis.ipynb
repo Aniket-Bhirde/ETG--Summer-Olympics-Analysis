{
 "cells": [
  {
   "cell_type": "code",
   "execution_count": null,
   "metadata": {},
   "outputs": [],
   "source": [
    "import pandas as pd"
   ]
  },
  {
   "cell_type": "code",
   "execution_count": null,
   "metadata": {},
   "outputs": [],
   "source": [
    "dataset=pd.read_csv(\"summer.csv\")\n",
    "print(dataset.shape)\n",
    "print(dataset.head(5))"
   ]
  },
  {
   "cell_type": "markdown",
   "metadata": {},
   "source": [
    "### 1. In how many cities summer Olympics is Held so far?"
   ]
  },
  {
   "cell_type": "code",
   "execution_count": null,
   "metadata": {},
   "outputs": [],
   "source": [
    "print(len(dataset['City'].unique()))"
   ]
  },
  {
   "cell_type": "markdown",
   "metadata": {},
   "source": [
    "### 2.Which sport is having most number of gold Medals so far?"
   ]
  },
  {
   "cell_type": "code",
   "execution_count": null,
   "metadata": {},
   "outputs": [],
   "source": [
    "tf = dataset.drop(['Year', 'City', 'Discipline', 'Athlete', 'Country', 'Gender', 'Event'], axis =1, inplace = False)\n",
    "tf = tf[tf['Medal'] == 'Gold']\n",
    "tf = tf.drop(['Medal'], axis =1)\n",
    "#sr=pd.Series(tf2)\n",
    "print(tf.value_counts().iloc[:5])"
   ]
  },
  {
   "cell_type": "code",
   "execution_count": null,
   "metadata": {},
   "outputs": [],
   "source": [
    "### 3. which sport is having most number of  medals so far?\n"
   ]
  },
  {
   "cell_type": "code",
   "execution_count": null,
   "metadata": {},
   "outputs": [],
   "source": [
    "sf = dataset.drop(['Year', 'City', 'Discipline', 'Athlete', 'Country', 'Gender', 'Event', 'Medal'], axis =1, inplace = False)\n",
    "print(sf.value_counts().iloc[:5])"
   ]
  },
  {
   "cell_type": "markdown",
   "metadata": {},
   "source": [
    "### 4. Which player has won most number of medals?"
   ]
  },
  {
   "cell_type": "code",
   "execution_count": null,
   "metadata": {},
   "outputs": [],
   "source": [
    "ef = dataset.drop(['Year', 'City', 'Sport', 'Discipline', 'Country', 'Gender', 'Event', 'Medal'], axis =1, inplace = False)\n",
    "print(ef.value_counts().iloc[:5])"
   ]
  },
  {
   "cell_type": "markdown",
   "metadata": {},
   "source": [
    "### 5.which player has won most number of Gold Medals Of medals?"
   ]
  },
  {
   "cell_type": "code",
   "execution_count": null,
   "metadata": {},
   "outputs": [],
   "source": [
    "af = dataset.drop(['Year', 'City', 'Sport', 'Discipline', 'Country', 'Gender', 'Event'], axis =1, inplace = False)\n",
    "af = af[af['Medal'] == 'Gold']\n",
    "print(af.value_counts().iloc[:5])"
   ]
  },
  {
   "cell_type": "markdown",
   "metadata": {},
   "source": [
    "### 6. In which year India won first gold Medal in Summer Olympics?"
   ]
  },
  {
   "cell_type": "code",
   "execution_count": null,
   "metadata": {},
   "outputs": [],
   "source": [
    "bf = dataset.drop(['City', 'Discipline', 'Sport', 'Athlete', 'Gender', 'Event'], axis =1, inplace = False)\n",
    "bf = bf[bf['Country'] == 'IND']\n",
    "bf = bf[bf['Medal'] == 'Gold']\n",
    "print(bf['Year'].iloc[0])"
   ]
  },
  {
   "cell_type": "markdown",
   "metadata": {},
   "source": [
    "### 7. which event id most popular in terms on number of players?"
   ]
  },
  {
   "cell_type": "code",
   "execution_count": null,
   "metadata": {},
   "outputs": [],
   "source": [
    "cf = dataset.drop(['Year', 'City', 'Discipline', 'Sport', 'Athlete', 'Country', 'Gender', 'Medal'], axis =1, inplace = False)\n",
    "print(cf.value_counts().head(5))"
   ]
  },
  {
   "cell_type": "markdown",
   "metadata": {},
   "source": [
    "### 8.which sport is having most female Gold medalists?"
   ]
  },
  {
   "cell_type": "code",
   "execution_count": null,
   "metadata": {},
   "outputs": [],
   "source": [
    "xf = dataset.drop(['Year', 'City', 'Discipline', 'Athlete', 'Country', 'Event'], axis =1, inplace = False)\n",
    "xf = xf[xf['Medal'] == 'Gold']\n",
    "xf = xf[xf['Gender'] == 'Women']\n",
    "xf = xf.drop(['Medal', 'Gender'], axis =1, inplace = False)\n",
    "print(xf.value_counts().head(5))"
   ]
  },
  {
   "cell_type": "code",
   "execution_count": null,
   "metadata": {},
   "outputs": [],
   "source": []
  }
 ],
 "metadata": {
  "kernelspec": {
   "display_name": "Python 3",
   "language": "python",
   "name": "python3"
  },
  "language_info": {
   "codemirror_mode": {
    "name": "ipython",
    "version": 3
   },
   "file_extension": ".py",
   "mimetype": "text/x-python",
   "name": "python",
   "nbconvert_exporter": "python",
   "pygments_lexer": "ipython3",
   "version": "3.8.3"
  }
 },
 "nbformat": 4,
 "nbformat_minor": 4
}
